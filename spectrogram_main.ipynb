{
  "cells": [
    {
      "cell_type": "markdown",
      "metadata": {
        "id": "THilBfauShFg"
      },
      "source": [
        "## 0. Drive 연결 및 압축 해제"
      ]
    },
    {
      "cell_type": "code",
      "execution_count": 1,
      "metadata": {
        "colab": {
          "base_uri": "https://localhost:8080/"
        },
        "id": "oj1DLFu-Shf8",
        "outputId": "7a5bf25f-32b7-45a7-f0a2-0f80a3e502a2"
      },
      "outputs": [
        {
          "name": "stdout",
          "output_type": "stream",
          "text": [
            "Mounted at /content/drive\n"
          ]
        }
      ],
      "source": [
        "from google.colab import drive\n",
        "drive.mount('/content/drive')"
      ]
    },
    {
      "cell_type": "code",
      "execution_count": 4,
      "metadata": {
        "colab": {
          "base_uri": "https://localhost:8080/"
        },
        "id": "HVJyZK3cSn1f",
        "outputId": "3a700488-f4d6-4287-8ccc-f6c342a79017"
      },
      "outputs": [
        {
          "name": "stdout",
          "output_type": "stream",
          "text": [
            "/content\n"
          ]
        }
      ],
      "source": [
        "%cd /content\n",
        "!unzip -qq \"/content/drive/MyDrive/크몽/EEG_Analysis.zip\""
      ]
    },
    {
      "cell_type": "markdown",
      "metadata": {
        "id": "DlWvBbgTS_z-"
      },
      "source": [
        "## 1. 사용할 패키지 불러오기"
      ]
    },
    {
      "cell_type": "code",
      "execution_count": 1,
      "metadata": {},
      "outputs": [
        {
          "name": "stderr",
          "output_type": "stream",
          "text": [
            "/home/jongwook95.lee/miniforge3/envs/cnn_based_audio_classification/lib/python3.8/site-packages/tqdm/auto.py:22: TqdmWarning: IProgress not found. Please update jupyter and ipywidgets. See https://ipywidgets.readthedocs.io/en/stable/user_install.html\n",
            "  from .autonotebook import tqdm as notebook_tqdm\n"
          ]
        }
      ],
      "source": [
        "import cv2\n",
        "from librosa.feature import melspectrogram\n",
        "import librosa\n",
        "import numpy as np\n",
        "from scipy import io\n",
        "from sklearn.preprocessing import OneHotEncoder\n",
        "from torch.utils.data import Dataset, DataLoader\n",
        "import torch\n",
        "import torch.nn as nn\n",
        "import torch.optim as optim\n",
        "import torchvision\n",
        "import torchvision.models as models\n",
        "import timm\n",
        "\n",
        "\n",
        "from sklearn.metrics import classification_report, confusion_matrix\n",
        "from sklearn.model_selection import train_test_split\n",
        "import matplotlib.pyplot as plt\n",
        "import seaborn as sns\n",
        "import os"
      ]
    },
    {
      "cell_type": "markdown",
      "metadata": {
        "id": "Aahb94WchfnO"
      },
      "source": [
        "## 2. 데이터 셋 구성"
      ]
    },
    {
      "cell_type": "code",
      "execution_count": 2,
      "metadata": {
        "id": "BMKf2ahfbsxr"
      },
      "outputs": [],
      "source": [
        "data_dir = \"content/ica_filtered_data\"\n",
        "\n",
        "data_list = os.listdir(data_dir)\n",
        "features = []\n",
        "labels = []\n",
        "for data in data_list:\n",
        "  labels.append(data.split('_')[0])\n",
        "  data_path = os.path.join(data_dir, data)\n",
        "  data = io.loadmat(data_path)\n",
        "  features.append(data['Clean_data'])\n",
        "\n",
        "features = np.stack(features)"
      ]
    },
    {
      "cell_type": "code",
      "execution_count": 3,
      "metadata": {},
      "outputs": [],
      "source": [
        "def mel_spectrogram(signal, sr, img_height, img_width):\n",
        "    \"\"\"Generate melody spectrogram with targeted size\n",
        "\n",
        "    Parameters\n",
        "    -----------\n",
        "    signal : np.array\n",
        "        1 dimensional (N,) signal\n",
        "    sr : int\n",
        "        sampling rate of signal\n",
        "    img_height : int \n",
        "        target image height\n",
        "    img_width : int \n",
        "        target image width\n",
        "\n",
        "    Returns\n",
        "    -------\n",
        "    np.array\n",
        "        melspectrogram. with shape of 2 dimensional numpy array\n",
        "        (img_height, img_width)\n",
        "    \"\"\"\n",
        "    \n",
        "    hop_length = len(signal) // img_width\n",
        "    n_fft = hop_length * 4 \n",
        "    spec=melspectrogram(y=signal, sr=sr, n_fft=n_fft,\n",
        "                        hop_length=hop_length, n_mels=224)\n",
        "    spec= librosa.power_to_db(S=spec, ref=np.max)\n",
        "    spec = spec[ :, :img_width]\n",
        "    spec=cv2.resize(spec,[img_height, img_width])\n",
        "    return spec"
      ]
    },
    {
      "cell_type": "code",
      "execution_count": 4,
      "metadata": {},
      "outputs": [],
      "source": [
        "def standarize(img):\n",
        "    \"\"\"Normalize a Single Image by Gaussian Distribution (mean, std).\n",
        "\n",
        "    Parameters\n",
        "    -----------\n",
        "    img : np.array\n",
        "        a single image np array with channel last (C x H x W) \n",
        "    Returns\n",
        "    -------\n",
        "    np.array\n",
        "        standarized image\n",
        "    \"\"\"\n",
        "    img = (img - np.mean(img, axis=(1,2))[:, np.newaxis, np.newaxis]) / \\\n",
        "        np.std(img, axis=(1,2))[:, np.newaxis, np.newaxis]\n",
        "    return img"
      ]
    },
    {
      "cell_type": "code",
      "execution_count": 5,
      "metadata": {},
      "outputs": [
        {
          "name": "stderr",
          "output_type": "stream",
          "text": [
            "/home/jongwook95.lee/miniforge3/envs/cnn_based_audio_classification/lib/python3.8/site-packages/librosa/util/decorators.py:88: UserWarning: Empty filters detected in mel frequency basis. Some channels will produce empty responses. Try increasing your sampling rate (and fmax) or reducing n_mels.\n",
            "  return f(*args, **kwargs)\n"
          ]
        },
        {
          "name": "stdout",
          "output_type": "stream",
          "text": [
            "Spectrograms Shape: (480, 32, 224, 224)\n"
          ]
        }
      ],
      "source": [
        "spectrograms  =[]\n",
        "\n",
        "for i in range(features.shape[0]):\n",
        "    spec = np.zeros((32,224,224))\n",
        "    for channel in range(features.shape[1]):\n",
        "        sensor = features[i, channel, :]\n",
        "        spec[channel, :, :] = mel_spectrogram(sensor, 128, 224, 224)\n",
        "\n",
        "\n",
        "    spec = standarize(spec)\n",
        "    spectrograms.append(spec)\n",
        "        \n",
        "\n",
        "spectrograms = np.stack(spectrograms)\n",
        "print(\"Spectrograms Shape: {}\".format(spectrograms.shape))"
      ]
    },
    {
      "cell_type": "code",
      "execution_count": 6,
      "metadata": {
        "colab": {
          "base_uri": "https://localhost:8080/"
        },
        "id": "gI3-n39mlJmd",
        "outputId": "4f173395-a2b1-47b4-ab9c-a3d8e704ddf9"
      },
      "outputs": [
        {
          "name": "stderr",
          "output_type": "stream",
          "text": [
            "/home/jongwook95.lee/miniforge3/envs/cnn_based_audio_classification/lib/python3.8/site-packages/sklearn/preprocessing/_encoders.py:808: FutureWarning: `sparse` was renamed to `sparse_output` in version 1.2 and will be removed in 1.4. `sparse_output` is ignored unless you leave `sparse` to its default value.\n",
            "  warnings.warn(\n"
          ]
        }
      ],
      "source": [
        "ohe = OneHotEncoder(sparse=False)\n",
        "labels = ohe.fit_transform(np.array(labels).reshape(-1,1))"
      ]
    },
    {
      "cell_type": "code",
      "execution_count": 7,
      "metadata": {
        "id": "nT8YLcU8ccIS"
      },
      "outputs": [],
      "source": [
        "train_X, test_X, train_y, test_y = train_test_split(spectrograms, labels, test_size = 0.2, random_state = 101, stratify = labels)"
      ]
    },
    {
      "cell_type": "markdown",
      "metadata": {
        "id": "HYZjK8xRiKon"
      },
      "source": [
        "## 3. DataLoader 생성"
      ]
    },
    {
      "cell_type": "code",
      "execution_count": 9,
      "metadata": {},
      "outputs": [],
      "source": [
        "from torch.utils.data import Dataset\n",
        "class LoadDataset(Dataset):\n",
        "    # Initialize your data, download, etc.\n",
        "    def __init__(self, X, y):\n",
        "        super(LoadDataset, self).__init__()\n",
        "\n",
        "        self.len = X.shape[0]\n",
        "        self.x_data = torch.from_numpy(X).float()\n",
        "        self.y_data = torch.from_numpy(y).float()\n",
        "\n",
        "    def __getitem__(self, index):\n",
        "        return self.x_data[index, :, :, :], self.y_data[index, :]\n",
        "\n",
        "    def __len__(self):\n",
        "        return self.len\n",
        "\n",
        "\n",
        "def data_generator_np(train_X, train_y, test_X, test_y, batch_size):\n",
        "    train_dataset = LoadDataset(train_X, train_y)\n",
        "    test_dataset = LoadDataset(test_X, test_y)\n",
        "\n",
        "    # to calculate the ratio for the CAL\n",
        "    all_ys = np.concatenate((train_dataset.y_data, test_dataset.y_data))\n",
        "    all_ys = all_ys.tolist()\n",
        "    num_classes = len(np.unique(all_ys))\n",
        "    counts = [all_ys.count(i) for i in range(num_classes)]\n",
        "\n",
        "    train_loader = torch.utils.data.DataLoader(dataset=train_dataset,\n",
        "                                               batch_size=batch_size,\n",
        "                                               shuffle=True,\n",
        "                                               drop_last=False,\n",
        "                                               num_workers=0)\n",
        "\n",
        "    test_loader = torch.utils.data.DataLoader(dataset=test_dataset,\n",
        "                                              batch_size=batch_size,\n",
        "                                              shuffle=False,\n",
        "                                              drop_last=False,\n",
        "                                              num_workers=0)\n",
        "\n",
        "    return train_loader, test_loader, counts\n",
        "\n",
        "### Data Loader 생성 (pytorch 특성상 input을 Data loader로 받음)\n",
        "train_data_loader, valid_data_loader, data_count = data_generator_np(train_X, train_y, test_X, test_y, 16)\n",
        "\n"
      ]
    },
    {
      "cell_type": "markdown",
      "metadata": {},
      "source": [
        "## 4. Mobilenet V2 CNN Network"
      ]
    },
    {
      "cell_type": "code",
      "execution_count": 10,
      "metadata": {},
      "outputs": [],
      "source": [
        "LEARNING_RATE = 0.0001\n",
        "EPOCHS = 50"
      ]
    },
    {
      "cell_type": "markdown",
      "metadata": {},
      "source": [
        "### (1) Build Model"
      ]
    },
    {
      "cell_type": "code",
      "execution_count": 10,
      "metadata": {},
      "outputs": [],
      "source": [
        "class mobilenet_v2_Network(nn.Module):\n",
        "    def __init__(self,num_classes=4, pretrained = True):\n",
        "        super().__init__()\n",
        "        self.first_conv = nn.Conv2d(32, 3, (1,1), 1, 1) # you could use e.g. a 1x1 kernel\n",
        "        self.model = models.mobilenet_v2(pretrained=pretrained)\n",
        "        # Change the output layer to output classes instead of 1000 classes\n",
        "        num_ftrs = self.model.classifier[1].in_features\n",
        "        self.model.classifier[1] = nn.Linear(num_ftrs, num_classes)\n",
        "        \n",
        "    def forward(self, x):\n",
        "        out = self.first_conv(x)\n",
        "        out = self.model(out)\n",
        "        return out"
      ]
    },
    {
      "cell_type": "code",
      "execution_count": 14,
      "metadata": {},
      "outputs": [],
      "source": [
        "model = mobilenet_v2_Network(num_classes = 4, pretrained = True)\n",
        "loss_fn = nn.CrossEntropyLoss()\n",
        "optimizer = torch.optim.Adam(model.parameters(), lr=LEARNING_RATE)"
      ]
    },
    {
      "cell_type": "code",
      "execution_count": 15,
      "metadata": {},
      "outputs": [],
      "source": [
        "device = torch.device(\"cuda:0\" if torch.cuda.is_available() else \"cpu\")\n",
        "model = model.to(device)"
      ]
    },
    {
      "cell_type": "markdown",
      "metadata": {},
      "source": [
        "### (2) Training"
      ]
    },
    {
      "cell_type": "code",
      "execution_count": 20,
      "metadata": {},
      "outputs": [
        {
          "name": "stdout",
          "output_type": "stream",
          "text": [
            "Epoch 1 \t Training Loss: 1.4185127814610798 \t Training Acc: 0.2682291865348816 \t\t Validation Loss: 1.458113193511963 \t Validation Acc: 0.2604166865348816\n",
            "Validation Acc Increased(0.000000--->0.260417) \t Saving The Model\n",
            "Epoch 2 \t Training Loss: 1.1610791981220245 \t Training Acc: 0.578125 \t\t Validation Loss: 1.5417290528615315 \t Validation Acc: 0.2395833432674408\n",
            "Epoch 3 \t Training Loss: 0.9037063419818878 \t Training Acc: 0.7890625 \t\t Validation Loss: 1.4898662964502971 \t Validation Acc: 0.2708333432674408\n",
            "Validation Acc Increased(0.260417--->0.270833) \t Saving The Model\n",
            "Epoch 4 \t Training Loss: 0.582268754641215 \t Training Acc: 0.9244791865348816 \t\t Validation Loss: 1.659391164779663 \t Validation Acc: 0.2916666865348816\n",
            "Validation Acc Increased(0.270833--->0.291667) \t Saving The Model\n",
            "Epoch 5 \t Training Loss: 0.2545911855995655 \t Training Acc: 0.9895833730697632 \t\t Validation Loss: 1.7164531548817952 \t Validation Acc: 0.2916666865348816\n",
            "Epoch 6 \t Training Loss: 0.09597575136770804 \t Training Acc: 1.0 \t\t Validation Loss: 1.9048386812210083 \t Validation Acc: 0.3020833432674408\n",
            "Validation Acc Increased(0.291667--->0.302083) \t Saving The Model\n",
            "Epoch 7 \t Training Loss: 0.034905657172203064 \t Training Acc: 1.0 \t\t Validation Loss: 2.0933720668156943 \t Validation Acc: 0.3333333432674408\n",
            "Validation Acc Increased(0.302083--->0.333333) \t Saving The Model\n",
            "Epoch 8 \t Training Loss: 0.020479182014241815 \t Training Acc: 1.0 \t\t Validation Loss: 2.059157689412435 \t Validation Acc: 0.2916666865348816\n",
            "Epoch 9 \t Training Loss: 0.013608567183837295 \t Training Acc: 1.0 \t\t Validation Loss: 2.06948184967041 \t Validation Acc: 0.3020833432674408\n",
            "Epoch 10 \t Training Loss: 0.010655778382594386 \t Training Acc: 1.0 \t\t Validation Loss: 2.1224653720855713 \t Validation Acc: 0.3229166865348816\n",
            "Epoch 11 \t Training Loss: 0.0074038216650175554 \t Training Acc: 1.0 \t\t Validation Loss: 2.14841628074646 \t Validation Acc: 0.3125\n",
            "Epoch 12 \t Training Loss: 0.005906706423653911 \t Training Acc: 1.0 \t\t Validation Loss: 2.155665953954061 \t Validation Acc: 0.3125\n",
            "Epoch 13 \t Training Loss: 0.0051303578657098114 \t Training Acc: 1.0 \t\t Validation Loss: 2.169462283452352 \t Validation Acc: 0.3020833432674408\n",
            "Epoch 14 \t Training Loss: 0.004075464617926627 \t Training Acc: 1.0 \t\t Validation Loss: 2.198674996693929 \t Validation Acc: 0.3020833432674408\n",
            "Epoch 15 \t Training Loss: 0.0038240457070060074 \t Training Acc: 1.0 \t\t Validation Loss: 2.209765593210856 \t Validation Acc: 0.3125\n",
            "Epoch 16 \t Training Loss: 0.005858831689693034 \t Training Acc: 1.0 \t\t Validation Loss: 2.229255517323812 \t Validation Acc: 0.2916666865348816\n",
            "Epoch 17 \t Training Loss: 0.0041430983498382075 \t Training Acc: 1.0 \t\t Validation Loss: 2.2539706230163574 \t Validation Acc: 0.3020833432674408\n",
            "Epoch 18 \t Training Loss: 0.0034035650023724884 \t Training Acc: 1.0 \t\t Validation Loss: 2.2826395829518638 \t Validation Acc: 0.3125\n",
            "Epoch 19 \t Training Loss: 0.0027331617990663895 \t Training Acc: 1.0 \t\t Validation Loss: 2.2815280755360923 \t Validation Acc: 0.3125\n",
            "Epoch 20 \t Training Loss: 0.0039631056424696 \t Training Acc: 1.0 \t\t Validation Loss: 2.298795461654663 \t Validation Acc: 0.28125\n",
            "Epoch 21 \t Training Loss: 0.0023485477480183667 \t Training Acc: 1.0 \t\t Validation Loss: 2.3004592259724936 \t Validation Acc: 0.28125\n",
            "Epoch 22 \t Training Loss: 0.0020266798383090645 \t Training Acc: 1.0 \t\t Validation Loss: 2.295785903930664 \t Validation Acc: 0.3125\n",
            "Epoch 23 \t Training Loss: 0.0018307158558551844 \t Training Acc: 1.0 \t\t Validation Loss: 2.2991949717203775 \t Validation Acc: 0.34375\n",
            "Validation Acc Increased(0.333333--->0.343750) \t Saving The Model\n",
            "Epoch 24 \t Training Loss: 0.0015713489750244964 \t Training Acc: 1.0 \t\t Validation Loss: 2.3056088288625083 \t Validation Acc: 0.3125\n",
            "Epoch 25 \t Training Loss: 0.001776212152132454 \t Training Acc: 1.0 \t\t Validation Loss: 2.309997240702311 \t Validation Acc: 0.3125\n",
            "Epoch 26 \t Training Loss: 0.001297955905708174 \t Training Acc: 1.0 \t\t Validation Loss: 2.301438490549723 \t Validation Acc: 0.3125\n",
            "Epoch 27 \t Training Loss: 0.0018299246973280485 \t Training Acc: 1.0 \t\t Validation Loss: 2.311516284942627 \t Validation Acc: 0.3333333432674408\n",
            "Epoch 28 \t Training Loss: 0.0011526501475600526 \t Training Acc: 1.0 \t\t Validation Loss: 2.323809862136841 \t Validation Acc: 0.3125\n",
            "Epoch 29 \t Training Loss: 0.0014697803659752633 \t Training Acc: 1.0 \t\t Validation Loss: 2.354566812515259 \t Validation Acc: 0.3229166865348816\n",
            "Epoch 30 \t Training Loss: 0.001238466322926494 \t Training Acc: 1.0 \t\t Validation Loss: 2.355575164159139 \t Validation Acc: 0.2916666865348816\n",
            "Epoch 31 \t Training Loss: 0.0011070219916291535 \t Training Acc: 1.0 \t\t Validation Loss: 2.3558639685312905 \t Validation Acc: 0.2916666865348816\n",
            "Epoch 32 \t Training Loss: 0.0018170327627255272 \t Training Acc: 1.0 \t\t Validation Loss: 2.383594353993734 \t Validation Acc: 0.3020833432674408\n",
            "Epoch 33 \t Training Loss: 0.0010876125258315976 \t Training Acc: 1.0 \t\t Validation Loss: 2.376850128173828 \t Validation Acc: 0.3125\n",
            "Epoch 34 \t Training Loss: 0.0009414090939875072 \t Training Acc: 1.0 \t\t Validation Loss: 2.3949440320332847 \t Validation Acc: 0.3125\n",
            "Epoch 35 \t Training Loss: 0.0007198736323819807 \t Training Acc: 1.0 \t\t Validation Loss: 2.3933655420939126 \t Validation Acc: 0.3125\n",
            "Epoch 36 \t Training Loss: 0.0010350788506912068 \t Training Acc: 1.0 \t\t Validation Loss: 2.406771183013916 \t Validation Acc: 0.3020833432674408\n",
            "Epoch 37 \t Training Loss: 0.000871113176496389 \t Training Acc: 1.0 \t\t Validation Loss: 2.405642112096151 \t Validation Acc: 0.2916666865348816\n",
            "Epoch 38 \t Training Loss: 0.0012583517818711698 \t Training Acc: 1.0 \t\t Validation Loss: 2.4092490673065186 \t Validation Acc: 0.28125\n",
            "Epoch 39 \t Training Loss: 0.0007322951447955953 \t Training Acc: 1.0 \t\t Validation Loss: 2.407773574193319 \t Validation Acc: 0.2916666865348816\n",
            "Epoch 40 \t Training Loss: 0.0007370681026562428 \t Training Acc: 1.0 \t\t Validation Loss: 2.409204641977946 \t Validation Acc: 0.3125\n",
            "Epoch 41 \t Training Loss: 0.0011785789756686427 \t Training Acc: 1.0 \t\t Validation Loss: 2.431528091430664 \t Validation Acc: 0.2916666865348816\n",
            "Epoch 42 \t Training Loss: 0.0008389210318758463 \t Training Acc: 1.0 \t\t Validation Loss: 2.441542069117228 \t Validation Acc: 0.3125\n",
            "Epoch 43 \t Training Loss: 0.0007375995119218715 \t Training Acc: 1.0 \t\t Validation Loss: 2.4422778288523355 \t Validation Acc: 0.3125\n",
            "Epoch 44 \t Training Loss: 0.0007664178483537398 \t Training Acc: 1.0 \t\t Validation Loss: 2.4423394997914634 \t Validation Acc: 0.3229166865348816\n",
            "Epoch 45 \t Training Loss: 0.0008581972591249117 \t Training Acc: 1.0 \t\t Validation Loss: 2.449743668238322 \t Validation Acc: 0.3229166865348816\n",
            "Epoch 46 \t Training Loss: 0.0007039724587230012 \t Training Acc: 1.0 \t\t Validation Loss: 2.4515929222106934 \t Validation Acc: 0.3020833432674408\n",
            "Epoch 47 \t Training Loss: 0.001210135167639237 \t Training Acc: 1.0 \t\t Validation Loss: 2.456200917561849 \t Validation Acc: 0.3125\n",
            "Epoch 48 \t Training Loss: 0.0008192685102888694 \t Training Acc: 1.0 \t\t Validation Loss: 2.4698472023010254 \t Validation Acc: 0.3125\n",
            "Epoch 49 \t Training Loss: 0.0006703532199026085 \t Training Acc: 1.0 \t\t Validation Loss: 2.471444288889567 \t Validation Acc: 0.3020833432674408\n",
            "Epoch 50 \t Training Loss: 0.0004573145840064778 \t Training Acc: 1.0 \t\t Validation Loss: 2.4721219539642334 \t Validation Acc: 0.3333333432674408\n"
          ]
        }
      ],
      "source": [
        "result_path = './Baseline_model'\n",
        "if not os.path.exists(result_path):\n",
        "    os.makedirs(result_path)\n",
        "\n",
        "\n",
        "max_valid_acc = 0\n",
        "\n",
        "for e in range(EPOCHS):\n",
        "    train_loss = 0.0\n",
        "    correct = 0\n",
        "    total = 0\n",
        "    model.train()     # Optional when not using Model Specific layer\n",
        "    for X,y in train_data_loader:\n",
        "        if torch.cuda.is_available():\n",
        "            X, y = X.float().to(device), y.float().to(device)\n",
        "\n",
        "        optimizer.zero_grad()\n",
        "        target = model(X)\n",
        "        loss = loss_fn(target,y)\n",
        "        loss.backward()\n",
        "        optimizer.step()\n",
        "        train_loss += loss.item()\n",
        "        predicted = torch.argmax(target, dim=1)\n",
        "        correct += (predicted == torch.argmax(y, dim=1)).float().sum()\n",
        "        total += y.shape[0]\n",
        "\n",
        "    train_acc = correct / total\n",
        "    correct = 0\n",
        "    total = 0\n",
        "    valid_loss = 0.0\n",
        "    model.eval()     # Optional when not using Model Specific layer\n",
        "    for X,y in valid_data_loader:\n",
        "        if torch.cuda.is_available():\n",
        "            X, y = X.float().to(device), y.float().to(device)\n",
        "\n",
        "\n",
        "        target = model(X)\n",
        "        loss = loss_fn(target,y)\n",
        "        valid_loss += loss.item()\n",
        "        _, predicted = torch.max(target, 1)\n",
        "        predicted = torch.argmax(y, dim=1)\n",
        "        correct += (predicted == torch.argmax(target, dim=1)).float().sum()\n",
        "        total += y.shape[0]\n",
        "    valid_acc = correct / total\n",
        "\n",
        "    print(f'Epoch {e+1} \\t Training Loss: {train_loss / len(train_data_loader)} \\t Training Acc: {train_acc} \\t\\t Validation Loss: {valid_loss / len(valid_data_loader)} \\t Validation Acc: {valid_acc}')\n",
        "    if valid_acc > max_valid_acc:\n",
        "        print(f'Validation Acc Increased({max_valid_acc:.6f}--->{valid_acc:.6f}) \\t Saving The Model')\n",
        "        max_valid_acc = valid_acc\n",
        "        # Saving State Dict\n",
        "        torch.save(model.state_dict(), result_path + '/Best_MobileNet_model.pth')"
      ]
    },
    {
      "cell_type": "markdown",
      "metadata": {},
      "source": [
        "### (3) Inference"
      ]
    },
    {
      "cell_type": "code",
      "execution_count": 21,
      "metadata": {},
      "outputs": [
        {
          "data": {
            "text/plain": [
              "<All keys matched successfully>"
            ]
          },
          "execution_count": 21,
          "metadata": {},
          "output_type": "execute_result"
        }
      ],
      "source": [
        "model.load_state_dict(torch.load(\"./Baseline_model/Best_MobileNet_model.pth\"))"
      ]
    },
    {
      "cell_type": "code",
      "execution_count": 22,
      "metadata": {},
      "outputs": [
        {
          "name": "stdout",
          "output_type": "stream",
          "text": [
            "[[10  4  7  3]\n",
            " [ 6  6  5  7]\n",
            " [ 2  4  8 10]\n",
            " [ 8  5  2  9]]\n",
            "              precision    recall  f1-score   support\n",
            "\n",
            "           0       0.38      0.42      0.40        24\n",
            "           1       0.32      0.25      0.28        24\n",
            "           2       0.36      0.33      0.35        24\n",
            "           3       0.31      0.38      0.34        24\n",
            "\n",
            "    accuracy                           0.34        96\n",
            "   macro avg       0.34      0.34      0.34        96\n",
            "weighted avg       0.34      0.34      0.34        96\n",
            "\n"
          ]
        },
        {
          "data": {
            "image/png": "[encoded data removed]",
            "text/plain": [
              "<Figure size 640x480 with 2 Axes>"
            ]
          },
          "metadata": {},
          "output_type": "display_data"
        }
      ],
      "source": [
        "preds = []\n",
        "gt = []\n",
        "\n",
        "for X,y in valid_data_loader:\n",
        "    if torch.cuda.is_available():\n",
        "        X, y = X.float().cuda(), y.float().cuda()\n",
        "\n",
        "\n",
        "    target = model(X)\n",
        "\n",
        "    predicted = torch.argmax(target, dim=1)\n",
        "    true_y = torch.argmax(y, dim=1)\n",
        "    preds = preds + list(predicted.cpu().numpy())\n",
        "    gt = gt + list(true_y.cpu().numpy())\n",
        "\n",
        "\n",
        "\n",
        "\n",
        "distribution = confusion_matrix(gt, preds)\n",
        "plt.figure()\n",
        "ax = sns.heatmap(distribution, annot=True,fmt='g')\n",
        "plt.title('Confusion_matrix')\n",
        "plt.savefig(os.path.join(result_path, 'Confusion_matrix.png'))\n",
        "print(distribution)\n",
        "print(classification_report(gt, preds))"
      ]
    },
    {
      "cell_type": "markdown",
      "metadata": {},
      "source": [
        "## 5. Vision Transformer CNN Network"
      ]
    },
    {
      "cell_type": "markdown",
      "metadata": {},
      "source": [
        "### (1) Build Model"
      ]
    },
    {
      "cell_type": "code",
      "execution_count": 11,
      "metadata": {},
      "outputs": [],
      "source": [
        "class vit_Network(nn.Module):\n",
        "    def __init__(self,num_classes=4, pretrained = True):\n",
        "        super().__init__()\n",
        "        self.first_conv = nn.Conv2d(32, 3, (1,1), 1, 0) # you could use e.g. a 1x1 kernel\n",
        "        self.model = timm.create_model('vit_base_patch16_224', pretrained=pretrained, num_classes=num_classes)\n",
        "        \n",
        "    def forward(self, x):\n",
        "        out = self.first_conv(x)\n",
        "        out = self.model(out)\n",
        "        return out"
      ]
    },
    {
      "cell_type": "code",
      "execution_count": 12,
      "metadata": {},
      "outputs": [],
      "source": [
        "model = vit_Network(num_classes = 4, pretrained = True)\n",
        "loss_fn = nn.CrossEntropyLoss()\n",
        "optimizer = torch.optim.Adam(model.parameters(), lr=LEARNING_RATE)"
      ]
    },
    {
      "cell_type": "code",
      "execution_count": 13,
      "metadata": {},
      "outputs": [],
      "source": [
        "device = torch.device(\"cuda:0\" if torch.cuda.is_available() else \"cpu\")\n",
        "model = model.to(device)"
      ]
    },
    {
      "cell_type": "markdown",
      "metadata": {},
      "source": [
        "### (2) Training"
      ]
    },
    {
      "cell_type": "code",
      "execution_count": 14,
      "metadata": {},
      "outputs": [
        {
          "name": "stdout",
          "output_type": "stream",
          "text": [
            "Epoch 1 \t Training Loss: 2.1354168901840844 \t Training Acc: 0.2369791716337204 \t\t Validation Loss: 1.6066639026006062 \t Validation Acc: 0.25\n",
            "Validation Acc Increased(0.000000--->0.250000) \t Saving The Model\n",
            "Epoch 2 \t Training Loss: 1.5017837981383007 \t Training Acc: 0.2890625 \t\t Validation Loss: 1.4956611196200054 \t Validation Acc: 0.25\n",
            "Epoch 3 \t Training Loss: 1.5004891206820805 \t Training Acc: 0.2630208432674408 \t\t Validation Loss: 1.549332082271576 \t Validation Acc: 0.25\n",
            "Epoch 4 \t Training Loss: 1.4674286246299744 \t Training Acc: 0.2630208432674408 \t\t Validation Loss: 1.4029238025347393 \t Validation Acc: 0.25\n",
            "Epoch 5 \t Training Loss: 1.478813459475835 \t Training Acc: 0.2578125 \t\t Validation Loss: 1.5500517288843791 \t Validation Acc: 0.25\n",
            "Epoch 6 \t Training Loss: 1.4880303889513016 \t Training Acc: 0.2421875 \t\t Validation Loss: 1.5297085444132488 \t Validation Acc: 0.25\n",
            "Epoch 7 \t Training Loss: 1.4791057407855988 \t Training Acc: 0.2421875 \t\t Validation Loss: 1.4245121081670125 \t Validation Acc: 0.25\n",
            "Epoch 8 \t Training Loss: 1.4304906527201335 \t Training Acc: 0.2421875 \t\t Validation Loss: 1.410624384880066 \t Validation Acc: 0.25\n",
            "Epoch 9 \t Training Loss: 1.4212045570214589 \t Training Acc: 0.2994791865348816 \t\t Validation Loss: 1.6352966626485188 \t Validation Acc: 0.25\n",
            "Epoch 10 \t Training Loss: 1.4757588704427083 \t Training Acc: 0.2213541716337204 \t\t Validation Loss: 1.4128716389338176 \t Validation Acc: 0.25\n",
            "Epoch 11 \t Training Loss: 1.4160633385181427 \t Training Acc: 0.2552083432674408 \t\t Validation Loss: 1.5138903458913167 \t Validation Acc: 0.25\n",
            "Epoch 12 \t Training Loss: 1.5072169452905655 \t Training Acc: 0.2630208432674408 \t\t Validation Loss: 1.5357235670089722 \t Validation Acc: 0.25\n",
            "Epoch 13 \t Training Loss: 1.5325295478105545 \t Training Acc: 0.2317708432674408 \t\t Validation Loss: 1.614825427532196 \t Validation Acc: 0.25\n",
            "Epoch 14 \t Training Loss: 1.404752790927887 \t Training Acc: 0.2890625 \t\t Validation Loss: 1.4596855839093525 \t Validation Acc: 0.25\n",
            "Epoch 15 \t Training Loss: 1.439999093612035 \t Training Acc: 0.265625 \t\t Validation Loss: 1.4394511977831523 \t Validation Acc: 0.25\n",
            "Epoch 16 \t Training Loss: 1.4575031101703644 \t Training Acc: 0.2421875 \t\t Validation Loss: 1.450330138206482 \t Validation Acc: 0.25\n",
            "Epoch 17 \t Training Loss: 1.4184541602929432 \t Training Acc: 0.2760416865348816 \t\t Validation Loss: 1.4612871011098225 \t Validation Acc: 0.25\n",
            "Epoch 18 \t Training Loss: 1.3647432674964268 \t Training Acc: 0.3125 \t\t Validation Loss: 1.5476301511128743 \t Validation Acc: 0.25\n",
            "Epoch 19 \t Training Loss: 1.4017625202735264 \t Training Acc: 0.28125 \t\t Validation Loss: 1.543891429901123 \t Validation Acc: 0.28125\n",
            "Validation Acc Increased(0.250000--->0.281250) \t Saving The Model\n",
            "Epoch 20 \t Training Loss: 1.583943302432696 \t Training Acc: 0.28125 \t\t Validation Loss: 1.5072097778320312 \t Validation Acc: 0.25\n",
            "Epoch 21 \t Training Loss: 1.3656850258509319 \t Training Acc: 0.328125 \t\t Validation Loss: 1.5377412637074788 \t Validation Acc: 0.25\n",
            "Epoch 22 \t Training Loss: 1.328164170185725 \t Training Acc: 0.3541666865348816 \t\t Validation Loss: 1.5942521691322327 \t Validation Acc: 0.28125\n",
            "Epoch 23 \t Training Loss: 1.262511432170868 \t Training Acc: 0.4114583432674408 \t\t Validation Loss: 1.6363278031349182 \t Validation Acc: 0.2708333432674408\n",
            "Epoch 24 \t Training Loss: 1.228043094277382 \t Training Acc: 0.40625 \t\t Validation Loss: 1.7891579270362854 \t Validation Acc: 0.3020833432674408\n",
            "Validation Acc Increased(0.281250--->0.302083) \t Saving The Model\n",
            "Epoch 25 \t Training Loss: 1.1731294219692547 \t Training Acc: 0.4635416865348816 \t\t Validation Loss: 1.7538791298866272 \t Validation Acc: 0.28125\n",
            "Epoch 26 \t Training Loss: 1.0733328859011333 \t Training Acc: 0.4921875 \t\t Validation Loss: 1.7934240102767944 \t Validation Acc: 0.25\n",
            "Epoch 27 \t Training Loss: 0.9460859720905622 \t Training Acc: 0.5520833730697632 \t\t Validation Loss: 2.111379782358805 \t Validation Acc: 0.1875\n",
            "Epoch 28 \t Training Loss: 0.89431198934714 \t Training Acc: 0.5703125 \t\t Validation Loss: 2.4089083274205527 \t Validation Acc: 0.3020833432674408\n",
            "Epoch 29 \t Training Loss: 0.9979773337642351 \t Training Acc: 0.5572916865348816 \t\t Validation Loss: 2.077174405256907 \t Validation Acc: 0.2291666716337204\n",
            "Epoch 30 \t Training Loss: 0.7705194453398386 \t Training Acc: 0.6302083730697632 \t\t Validation Loss: 2.8010486364364624 \t Validation Acc: 0.1979166716337204\n",
            "Epoch 31 \t Training Loss: 0.6612956884006659 \t Training Acc: 0.6796875 \t\t Validation Loss: 3.5826279719670615 \t Validation Acc: 0.2291666716337204\n",
            "Epoch 32 \t Training Loss: 0.7317189065118631 \t Training Acc: 0.6692708730697632 \t\t Validation Loss: 2.6258182922999063 \t Validation Acc: 0.2395833432674408\n",
            "Epoch 33 \t Training Loss: 0.6781584123770396 \t Training Acc: 0.6875 \t\t Validation Loss: 3.2638134161631265 \t Validation Acc: 0.25\n",
            "Epoch 34 \t Training Loss: 0.5702421876291434 \t Training Acc: 0.7057291865348816 \t\t Validation Loss: 4.361999154090881 \t Validation Acc: 0.1979166716337204\n",
            "Epoch 35 \t Training Loss: 0.8009111396968365 \t Training Acc: 0.6328125 \t\t Validation Loss: 2.6707555452982583 \t Validation Acc: 0.25\n",
            "Epoch 36 \t Training Loss: 0.49366416161259014 \t Training Acc: 0.7395833730697632 \t\t Validation Loss: 3.637325127919515 \t Validation Acc: 0.2604166865348816\n",
            "Epoch 37 \t Training Loss: 0.48633213465412456 \t Training Acc: 0.7682291865348816 \t\t Validation Loss: 4.579771359761556 \t Validation Acc: 0.2395833432674408\n",
            "Epoch 38 \t Training Loss: 0.43195368225375813 \t Training Acc: 0.796875 \t\t Validation Loss: 4.142168402671814 \t Validation Acc: 0.1770833432674408\n",
            "Epoch 39 \t Training Loss: 0.4313212341318528 \t Training Acc: 0.8046875 \t\t Validation Loss: 4.22115163008372 \t Validation Acc: 0.21875\n",
            "Epoch 40 \t Training Loss: 0.5344441508253416 \t Training Acc: 0.7421875 \t\t Validation Loss: 3.417591651280721 \t Validation Acc: 0.2708333432674408\n",
            "Epoch 41 \t Training Loss: 0.45548583070437115 \t Training Acc: 0.7838541865348816 \t\t Validation Loss: 4.13365372021993 \t Validation Acc: 0.1458333432674408\n",
            "Epoch 42 \t Training Loss: 0.28479439703126747 \t Training Acc: 0.90625 \t\t Validation Loss: 5.900858958562215 \t Validation Acc: 0.2291666716337204\n",
            "Epoch 43 \t Training Loss: 0.29376942819605273 \t Training Acc: 0.8958333730697632 \t\t Validation Loss: 6.902266502380371 \t Validation Acc: 0.1979166716337204\n",
            "Epoch 44 \t Training Loss: 0.3886917519072692 \t Training Acc: 0.8723958730697632 \t\t Validation Loss: 4.4974178075790405 \t Validation Acc: 0.3125\n",
            "Validation Acc Increased(0.302083--->0.312500) \t Saving The Model\n",
            "Epoch 45 \t Training Loss: 0.3471837971980373 \t Training Acc: 0.859375 \t\t Validation Loss: 4.983448147773743 \t Validation Acc: 0.2291666716337204\n",
            "Epoch 46 \t Training Loss: 0.2725635697133839 \t Training Acc: 0.8932291865348816 \t\t Validation Loss: 5.7148598829905195 \t Validation Acc: 0.1979166716337204\n",
            "Epoch 47 \t Training Loss: 0.2082039729381601 \t Training Acc: 0.9192708730697632 \t\t Validation Loss: 5.78923241297404 \t Validation Acc: 0.21875\n",
            "Epoch 48 \t Training Loss: 0.4612435760597388 \t Training Acc: 0.8333333730697632 \t\t Validation Loss: 4.808695952097575 \t Validation Acc: 0.2395833432674408\n",
            "Epoch 49 \t Training Loss: 0.35928022240598995 \t Training Acc: 0.859375 \t\t Validation Loss: 5.464745918909709 \t Validation Acc: 0.1666666716337204\n",
            "Epoch 50 \t Training Loss: 0.20313427597284317 \t Training Acc: 0.9375 \t\t Validation Loss: 5.887751976648967 \t Validation Acc: 0.21875\n"
          ]
        }
      ],
      "source": [
        "result_path = './Baseline_model'\n",
        "if not os.path.exists(result_path):\n",
        "    os.makedirs(result_path)\n",
        "\n",
        "\n",
        "max_valid_acc = 0\n",
        "\n",
        "for e in range(EPOCHS):\n",
        "    train_loss = 0.0\n",
        "    correct = 0\n",
        "    total = 0\n",
        "    model.train()     # Optional when not using Model Specific layer\n",
        "    for X,y in train_data_loader:\n",
        "        if torch.cuda.is_available():\n",
        "            X, y = X.float().to(device), y.float().to(device)\n",
        "\n",
        "        optimizer.zero_grad()\n",
        "        target = model(X)\n",
        "        loss = loss_fn(target,y)\n",
        "        loss.backward()\n",
        "        optimizer.step()\n",
        "        train_loss += loss.item()\n",
        "        predicted = torch.argmax(target, dim=1)\n",
        "        correct += (predicted == torch.argmax(y, dim=1)).float().sum()\n",
        "        total += y.shape[0]\n",
        "\n",
        "    train_acc = correct / total\n",
        "    correct = 0\n",
        "    total = 0\n",
        "    valid_loss = 0.0\n",
        "    model.eval()     # Optional when not using Model Specific layer\n",
        "    for X,y in valid_data_loader:\n",
        "        if torch.cuda.is_available():\n",
        "            X, y = X.float().to(device), y.float().to(device)\n",
        "\n",
        "\n",
        "        target = model(X)\n",
        "        loss = loss_fn(target,y)\n",
        "        valid_loss += loss.item()\n",
        "        _, predicted = torch.max(target, 1)\n",
        "        predicted = torch.argmax(y, dim=1)\n",
        "        correct += (predicted == torch.argmax(target, dim=1)).float().sum()\n",
        "        total += y.shape[0]\n",
        "    valid_acc = correct / total\n",
        "\n",
        "    print(f'Epoch {e+1} \\t Training Loss: {train_loss / len(train_data_loader)} \\t Training Acc: {train_acc} \\t\\t Validation Loss: {valid_loss / len(valid_data_loader)} \\t Validation Acc: {valid_acc}')\n",
        "    if valid_acc > max_valid_acc:\n",
        "        print(f'Validation Acc Increased({max_valid_acc:.6f}--->{valid_acc:.6f}) \\t Saving The Model')\n",
        "        max_valid_acc = valid_acc\n",
        "        # Saving State Dict\n",
        "        torch.save(model.state_dict(), result_path + '/Best_VIT_model.pth')"
      ]
    },
    {
      "cell_type": "markdown",
      "metadata": {},
      "source": [
        "### (3) Inference"
      ]
    },
    {
      "cell_type": "code",
      "execution_count": 15,
      "metadata": {},
      "outputs": [
        {
          "data": {
            "text/plain": [
              "<All keys matched successfully>"
            ]
          },
          "execution_count": 15,
          "metadata": {},
          "output_type": "execute_result"
        }
      ],
      "source": [
        "model.load_state_dict(torch.load(\"./Baseline_model/Best_VIT_model.pth\"))"
      ]
    },
    {
      "cell_type": "code",
      "execution_count": 16,
      "metadata": {},
      "outputs": [
        {
          "name": "stdout",
          "output_type": "stream",
          "text": [
            "[[ 2 10  2 10]\n",
            " [ 1 17  4  2]\n",
            " [ 1 14  3  6]\n",
            " [ 4  8  4  8]]\n",
            "              precision    recall  f1-score   support\n",
            "\n",
            "           0       0.25      0.08      0.12        24\n",
            "           1       0.35      0.71      0.47        24\n",
            "           2       0.23      0.12      0.16        24\n",
            "           3       0.31      0.33      0.32        24\n",
            "\n",
            "    accuracy                           0.31        96\n",
            "   macro avg       0.28      0.31      0.27        96\n",
            "weighted avg       0.28      0.31      0.27        96\n",
            "\n"
          ]
        },
        {
          "data": {
            "image/png": "[encoded data removed]",
            "text/plain": [
              "<Figure size 640x480 with 2 Axes>"
            ]
          },
          "metadata": {},
          "output_type": "display_data"
        }
      ],
      "source": [
        "preds = []\n",
        "gt = []\n",
        "\n",
        "for X,y in valid_data_loader:\n",
        "    if torch.cuda.is_available():\n",
        "        X, y = X.float().cuda(), y.float().cuda()\n",
        "\n",
        "\n",
        "    target = model(X)\n",
        "\n",
        "    predicted = torch.argmax(target, dim=1)\n",
        "    true_y = torch.argmax(y, dim=1)\n",
        "    preds = preds + list(predicted.cpu().numpy())\n",
        "    gt = gt + list(true_y.cpu().numpy())\n",
        "\n",
        "\n",
        "\n",
        "\n",
        "distribution = confusion_matrix(gt, preds)\n",
        "plt.figure()\n",
        "ax = sns.heatmap(distribution, annot=True,fmt='g')\n",
        "plt.title('Confusion_matrix')\n",
        "plt.savefig(os.path.join(result_path, 'Confusion_matrix.png'))\n",
        "print(distribution)\n",
        "print(classification_report(gt, preds))"
      ]
    },
    {
      "cell_type": "code",
      "execution_count": null,
      "metadata": {},
      "outputs": [],
      "source": []
    }
  ],
  "metadata": {
    "accelerator": "GPU",
    "colab": {
      "gpuType": "T4",
      "provenance": []
    },
    "interpreter": {
      "hash": "deaa70559ebc884b0524f5f39eda096f0180e33498d3b993c18ab521d5b6887c"
    },
    "kernelspec": {
      "display_name": "Python 3.8.15 ('cnn_based_audio_classification')",
      "language": "python",
      "name": "python3"
    },
    "language_info": {
      "codemirror_mode": {
        "name": "ipython",
        "version": 3
      },
      "file_extension": ".py",
      "mimetype": "text/x-python",
      "name": "python",
      "nbconvert_exporter": "python",
      "pygments_lexer": "ipython3",
      "version": "3.8.15"
    }
  },
  "nbformat": 4,
  "nbformat_minor": 0
}
